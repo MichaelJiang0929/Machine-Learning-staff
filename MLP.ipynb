{
  "nbformat": 4,
  "nbformat_minor": 0,
  "metadata": {
    "colab": {
      "name": "MLP.ipynb",
      "provenance": [],
      "collapsed_sections": []
    },
    "kernelspec": {
      "name": "python3",
      "display_name": "Python 3"
    }
  },
  "cells": [
    {
      "cell_type": "code",
      "metadata": {
        "id": "-wxEqTnqr8F_"
      },
      "source": [
        "import torch\n",
        "import torchvision\n",
        "import torch.nn as nn\n",
        "import torch.nn.functional as F\n",
        "from torch.utils.data import TensorDataset, DataLoader\n",
        "import dataloader\n",
        "import numpy as np\n",
        "import matplotlib.pyplot as plt\n",
        "%matplotlib inline\n",
        "dataloader = dataloader.DataLoader(Xtrainpath='./train-images-idx3-ubyte.gz',\n",
        "                        Ytrainpath='./train-labels-idx1-ubyte.gz',\n",
        "                        Xtestpath='./t10k-images-idx3-ubyte.gz',\n",
        "                        Ytestpath='./t10k-labels-idx1-ubyte.gz')\n",
        "Xtrain, Ytrain, Xtest, Ytest = dataloader.load_data()\n",
        "tensor_Xtrain = torch.Tensor(Xtrain)\n",
        "tensor_Ytrain = torch.Tensor(Ytrain)\n",
        "dataset = TensorDataset(tensor_Xtrain, tensor_Ytrain)\n",
        "train_loader = DataLoader(dataset, batch_size=256, num_workers=0)\n",
        "tensor_Xtest = torch.Tensor(Xtest)\n",
        "tensor_Ytest = torch.Tensor(Ytest)\n",
        "test_dataset = TensorDataset(tensor_Xtest, tensor_Ytest)\n",
        "test_loader = DataLoader(test_dataset, batch_size=1000, num_workers=0)"
      ],
      "execution_count": null,
      "outputs": []
    },
    {
      "cell_type": "code",
      "metadata": {
        "colab": {
          "base_uri": "https://localhost:8080/"
        },
        "id": "bsAHJLqjsB4R",
        "outputId": "80279214-1980-4432-e8a3-3aa3d9d950f8"
      },
      "source": [
        "class Net(nn.Module):\n",
        "    def __init__(self):\n",
        "        super(Net, self).__init__()\n",
        "        self.fc1 = nn.Linear(28 * 28, 512)\n",
        "        self.fc2 = nn.Linear(512, 512)\n",
        "        self.fc3 = nn.Linear(512, 10)\n",
        "        self.dropout = nn.Dropout(0.2)\n",
        "\n",
        "    def forward(self, x):\n",
        "        x = x.view(-1, 28 * 28)\n",
        "        x = F.relu(self.fc1(x))\n",
        "        x = self.dropout(x)\n",
        "        x = F.relu(self.fc2(x))\n",
        "        x = self.dropout(x)\n",
        "        x = self.fc3(x)\n",
        "        return x\n",
        "\n",
        "model = Net()\n",
        "criterion = nn.CrossEntropyLoss()\n",
        "optimizer = torch.optim.SGD(model.parameters(), lr=0.01)\n",
        "print(model)"
      ],
      "execution_count": null,
      "outputs": [
        {
          "output_type": "stream",
          "text": [
            "Net(\n",
            "  (fc1): Linear(in_features=784, out_features=512, bias=True)\n",
            "  (fc2): Linear(in_features=512, out_features=512, bias=True)\n",
            "  (fc3): Linear(in_features=512, out_features=10, bias=True)\n",
            "  (dropout): Dropout(p=0.2, inplace=False)\n",
            ")\n"
          ],
          "name": "stdout"
        }
      ]
    },
    {
      "cell_type": "code",
      "metadata": {
        "id": "8XE7PiNUabXu"
      },
      "source": [
        "def evaluation():\n",
        "  test_loss = 0.0\n",
        "  class_correct = list(0. for i in range(10))\n",
        "  class_total = list(0. for i in range(10))\n",
        "  model.eval()\n",
        "  for data, target in test_loader:\n",
        "      output = model(data)\n",
        "      loss = criterion(output, target.long())\n",
        "      test_loss += loss.item() * data.size(0)\n",
        "      _, pred = torch.max(output, 1)\n",
        "      correct = np.squeeze(pred.eq(target.data.view_as(pred)))\n",
        "      for i in range(1000):\n",
        "          label = int(target.data[i])\n",
        "          class_correct[label] += correct[i].item()\n",
        "          class_total[label] += 1\n",
        "  test_loss = test_loss/len(test_loader.dataset)\n",
        "  accuracy = 100. * np.sum(class_correct) / np.sum(class_total)\n",
        "  return test_loss, accuracy\n",
        "\n",
        "def train_accuracy():\n",
        "  class_correct = list(0. for i in range(10))\n",
        "  class_total = list(0. for i in range(10))\n",
        "  model.eval()\n",
        "  for data, target in train_loader:\n",
        "      output = model(data)\n",
        "      _, pred = torch.max(output, 1)\n",
        "      correct = np.squeeze(pred.eq(target.data.view_as(pred)))\n",
        "      for i in range(len(target.data)):\n",
        "          label = int(target.data[i])\n",
        "          class_correct[label] += correct[i].item()\n",
        "          class_total[label] += 1\n",
        "  accuracy = 100. * np.sum(class_correct) / np.sum(class_total)\n",
        "  return accuracy"
      ],
      "execution_count": null,
      "outputs": []
    },
    {
      "cell_type": "code",
      "metadata": {
        "id": "-Rr-A8_ksNuO"
      },
      "source": [
        "n_epoches = 50\n",
        "training_losses = []\n",
        "test_losses = []\n",
        "test_accuracies = []\n",
        "train_accuracies = []\n",
        "model.train()\n",
        "for epoch in range(n_epoches):\n",
        "    train_loss = 0.0\n",
        "    for data, target in train_loader:\n",
        "        optimizer.zero_grad()\n",
        "        output = model(data)\n",
        "        loss = criterion(output, target.long())\n",
        "        loss.backward()\n",
        "        optimizer.step()\n",
        "        train_loss += loss.item() * data.size(0)\n",
        "    train_loss = train_loss / len(train_loader.dataset)\n",
        "    training_losses.append(train_loss)\n",
        "    test_loss, test_accuracy = evaluation()\n",
        "    train_ac = train_accuracy()\n",
        "    test_losses.append(test_loss)\n",
        "    test_accuracies.append(test_accuracy)\n",
        "    train_accuracies.append(train_ac)"
      ],
      "execution_count": null,
      "outputs": []
    },
    {
      "cell_type": "code",
      "metadata": {
        "colab": {
          "base_uri": "https://localhost:8080/",
          "height": 871
        },
        "id": "ONm9ad9waJfj",
        "outputId": "3433c626-8be4-4650-f444-4ceecf5fbf2d"
      },
      "source": [
        "iters = list(range(50))\n",
        "plt.plot(iters, training_losses)\n",
        "plt.xlabel(\"Number of Iterations\")\n",
        "plt.ylabel(\"Training Loss\")\n",
        "plt.show()\n",
        "plt.plot(iters, test_accuracies)\n",
        "plt.xlabel(\"Number of Iterations\")\n",
        "plt.ylabel(\"Testing Accuracies\")\n",
        "plt.show()\n",
        "plt.plot(iters, train_accuracies)\n",
        "plt.xlabel(\"Number of Iterations\")\n",
        "plt.ylabel(\"Training Accuracies\")\n",
        "plt.show()\n",
        "print(np.mean(test_accuracies))\n",
        "print(np.std(test_accuracies))\n",
        "print(np.mean(train_accuracies))\n",
        "print(np.std(train_accuracies))"
      ],
      "execution_count": null,
      "outputs": [
        {
          "output_type": "display_data",
          "data": {
            "image/png": "[encoded data removed]",
            "text/plain": [
              "<Figure size 432x288 with 1 Axes>"
            ]
          },
          "metadata": {
            "tags": [],
            "needs_background": "light"
          }
        },
        {
          "output_type": "display_data",
          "data": {
            "image/png": "[encoded data removed]",
            "text/plain": [
              "<Figure size 432x288 with 1 Axes>"
            ]
          },
          "metadata": {
            "tags": [],
            "needs_background": "light"
          }
        },
        {
          "output_type": "display_data",
          "data": {
            "image/png": "[encoded data removed]",
            "text/plain": [
              "<Figure size 432x288 with 1 Axes>"
            ]
          },
          "metadata": {
            "tags": [],
            "needs_background": "light"
          }
        },
        {
          "output_type": "stream",
          "text": [
            "95.65180000000001\n",
            "3.7191733974096985\n",
            "97.81753333333334\n",
            "4.176786287725687\n"
          ],
          "name": "stdout"
        }
      ]
    },
    {
      "cell_type": "code",
      "metadata": {
        "colab": {
          "base_uri": "https://localhost:8080/"
        },
        "id": "qwIRPJiYsPqj",
        "outputId": "c7f6a1e6-a3fe-4982-97bd-076e3d027fca"
      },
      "source": [
        "#https://github.com/iam-mhaseeb/Multi-Layer-Perceptron-MNIST-with-PyTorch/blob/master/mnist_mlp_exercise.ipynb\n",
        "test_loss = 0.0\n",
        "class_correct = list(0. for i in range(10))\n",
        "class_total = list(0. for i in range(10))\n",
        "model.eval()\n",
        "for data, target in test_loader:\n",
        "    output = model(data)\n",
        "    loss = criterion(output, target.long())\n",
        "    test_loss += loss.item() * data.size(0)\n",
        "    _, pred = torch.max(output, 1)\n",
        "    correct = np.squeeze(pred.eq(target.data.view_as(pred)))\n",
        "    for i in range(1000):\n",
        "        label = int(target.data[i])\n",
        "        class_correct[label] += correct[i].item()\n",
        "        class_total[label] += 1\n",
        "test_loss = test_loss/len(test_loader.dataset)\n",
        "print('Test Loss: {:.6f}\\n'.format(test_loss))\n",
        "\n",
        "for i in range(10):\n",
        "    if class_total[i] > 0:\n",
        "        print('Test Accuracy of %5s: %2d%% (%2d/%2d)' % (\n",
        "            str(i), 100 * class_correct[i] / class_total[i],\n",
        "            np.sum(class_correct[i]), np.sum(class_total[i])))\n",
        "    else:\n",
        "        print('Test Accuracy of %5s: N/A (no training examples)' % (classes[i]))\n",
        "\n",
        "print('\\nTest Accuracy (Overall): %2d%% (%2d/%2d)' % (\n",
        "    100. * np.sum(class_correct) / np.sum(class_total),\n",
        "    np.sum(class_correct), np.sum(class_total)))  "
      ],
      "execution_count": null,
      "outputs": [
        {
          "output_type": "stream",
          "text": [
            "Test Loss: 0.166295\n",
            "\n",
            "Test Accuracy of     0: 98% (964/980)\n",
            "Test Accuracy of     1: 99% (1127/1135)\n",
            "Test Accuracy of     2: 96% (993/1032)\n",
            "Test Accuracy of     3: 95% (969/1010)\n",
            "Test Accuracy of     4: 97% (958/982)\n",
            "Test Accuracy of     5: 96% (863/892)\n",
            "Test Accuracy of     6: 96% (926/958)\n",
            "Test Accuracy of     7: 96% (995/1028)\n",
            "Test Accuracy of     8: 94% (924/974)\n",
            "Test Accuracy of     9: 95% (965/1009)\n",
            "\n",
            "Test Accuracy (Overall): 96% (9684/10000)\n"
          ],
          "name": "stdout"
        }
      ]
    }
  ]
}