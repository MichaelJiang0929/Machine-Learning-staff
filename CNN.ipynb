{
  "nbformat": 4,
  "nbformat_minor": 0,
  "metadata": {
    "colab": {
      "name": "CNN.ipynb",
      "provenance": [],
      "collapsed_sections": []
    },
    "kernelspec": {
      "name": "python3",
      "display_name": "Python 3"
    }
  },
  "cells": [
    {
      "cell_type": "code",
      "metadata": {
        "id": "aj2IVs5w30mR"
      },
      "source": [
        "import torch\n",
        "import torchvision\n",
        "import torch.nn as nn\n",
        "import torch.nn.functional as F\n",
        "from torch.utils.data import TensorDataset, DataLoader\n",
        "import dataloader\n",
        "import numpy as np\n",
        "import matplotlib.pyplot as plt\n",
        "%matplotlib inline\n",
        "dataloader = dataloader.DataLoader(Xtrainpath='./train-images-idx3-ubyte.gz',\n",
        "                        Ytrainpath='./train-labels-idx1-ubyte.gz',\n",
        "                        Xtestpath='./t10k-images-idx3-ubyte.gz',\n",
        "                        Ytestpath='./t10k-labels-idx1-ubyte.gz')\n",
        "Xtrain, Ytrain, Xtest, Ytest = dataloader.load_data()\n",
        "tensor_Xtrain = torch.Tensor(Xtrain).view(-1, 1,28,28).float()\n",
        "tensor_Ytrain = torch.Tensor(Ytrain)\n",
        "dataset = TensorDataset(tensor_Xtrain, tensor_Ytrain)\n",
        "train_loader = DataLoader(dataset, batch_size=256, num_workers=0)\n",
        "tensor_Xtest = torch.Tensor(Xtest).view(-1, 1,28,28).float()\n",
        "tensor_Ytest = torch.Tensor(Ytest)\n",
        "test_dataset = TensorDataset(tensor_Xtest, tensor_Ytest)\n",
        "test_loader = DataLoader(test_dataset, batch_size=1000, num_workers=0)"
      ],
      "execution_count": 13,
      "outputs": []
    },
    {
      "cell_type": "code",
      "metadata": {
        "colab": {
          "base_uri": "https://localhost:8080/"
        },
        "id": "m6AtUDmc4GZn",
        "outputId": "07735cae-313f-415f-f166-03f6e1f043c3"
      },
      "source": [
        "class Net(nn.Module):\n",
        "    def __init__(self):\n",
        "        super(Net, self).__init__()\n",
        "        self.conv1 = nn.Conv2d(1, 10, kernel_size=5)\n",
        "        self.conv2 = nn.Conv2d(10, 20, kernel_size=5)\n",
        "        self.conv2_drop = nn.Dropout2d()\n",
        "        self.fc1 = nn.Linear(320, 50)\n",
        "        self.fc2 = nn.Linear(50, 10)\n",
        "\n",
        "    def forward(self, x):\n",
        "        x = F.relu(F.max_pool2d(self.conv1(x), 2))\n",
        "        x = F.relu(F.max_pool2d(self.conv2_drop(self.conv2(x)), 2))\n",
        "        x = x.view(-1, 320)\n",
        "        x = F.relu(self.fc1(x))\n",
        "        x = F.dropout(x, training=self.training)\n",
        "        x = self.fc2(x)\n",
        "        return F.log_softmax(x)\n",
        "\n",
        "model = Net()\n",
        "criterion = nn.CrossEntropyLoss()\n",
        "optimizer = torch.optim.SGD(model.parameters(), lr=0.01)\n",
        "print(model)"
      ],
      "execution_count": 14,
      "outputs": [
        {
          "output_type": "stream",
          "text": [
            "Net(\n",
            "  (conv1): Conv2d(1, 10, kernel_size=(5, 5), stride=(1, 1))\n",
            "  (conv2): Conv2d(10, 20, kernel_size=(5, 5), stride=(1, 1))\n",
            "  (conv2_drop): Dropout2d(p=0.5, inplace=False)\n",
            "  (fc1): Linear(in_features=320, out_features=50, bias=True)\n",
            "  (fc2): Linear(in_features=50, out_features=10, bias=True)\n",
            ")\n"
          ],
          "name": "stdout"
        }
      ]
    },
    {
      "cell_type": "code",
      "metadata": {
        "id": "I58KJ8mUL1PL"
      },
      "source": [
        "def evaluation():\n",
        "  test_loss = 0.0\n",
        "  class_correct = list(0. for i in range(10))\n",
        "  class_total = list(0. for i in range(10))\n",
        "  model.eval()\n",
        "  for data, target in test_loader:\n",
        "      output = model(data)\n",
        "      loss = criterion(output, target.long())\n",
        "      test_loss += loss.item() * data.size(0)\n",
        "      _, pred = torch.max(output, 1)\n",
        "      correct = np.squeeze(pred.eq(target.data.view_as(pred)))\n",
        "      for i in range(1000):\n",
        "          label = int(target.data[i])\n",
        "          class_correct[label] += correct[i].item()\n",
        "          class_total[label] += 1\n",
        "  test_loss = test_loss/len(test_loader.dataset)\n",
        "  accuracy = 100. * np.sum(class_correct) / np.sum(class_total)\n",
        "  return test_loss, accuracy\n",
        "\n",
        "def train_accuracy():\n",
        "  class_correct = list(0. for i in range(10))\n",
        "  class_total = list(0. for i in range(10))\n",
        "  model.eval()\n",
        "  for data, target in train_loader:\n",
        "      output = model(data)\n",
        "      _, pred = torch.max(output, 1)\n",
        "      correct = np.squeeze(pred.eq(target.data.view_as(pred)))\n",
        "      for i in range(len(target.data)):\n",
        "          label = int(target.data[i])\n",
        "          class_correct[label] += correct[i].item()\n",
        "          class_total[label] += 1\n",
        "  accuracy = 100. * np.sum(class_correct) / np.sum(class_total)\n",
        "  return accuracy"
      ],
      "execution_count": 15,
      "outputs": []
    },
    {
      "cell_type": "code",
      "metadata": {
        "colab": {
          "base_uri": "https://localhost:8080/"
        },
        "id": "B__hrfpIL3hT",
        "outputId": "06e08e40-8c0a-4406-88fe-bbfe4de7183a"
      },
      "source": [
        "n_epoches = 50\n",
        "training_losses = []\n",
        "test_losses = []\n",
        "test_accuracies = []\n",
        "train_accuracies = []\n",
        "model.train()\n",
        "for epoch in range(n_epoches):\n",
        "    train_loss = 0.0\n",
        "    for data, target in train_loader:\n",
        "        optimizer.zero_grad()\n",
        "        output = model(data)\n",
        "        loss = criterion(output, target.long())\n",
        "        loss.backward()\n",
        "        optimizer.step()\n",
        "        train_loss += loss.item() * data.size(0)\n",
        "    train_loss = train_loss / len(train_loader.dataset)\n",
        "    training_losses.append(train_loss)\n",
        "    test_loss, test_accuracy = evaluation()\n",
        "    train_ac = train_accuracy()\n",
        "    test_losses.append(test_loss)\n",
        "    test_accuracies.append(test_accuracy)\n",
        "    train_accuracies.append(train_ac)\n",
        "    print('Epoch: {} \\tTraining Loss: {:.6f}'.format(\n",
        "        epoch+1, \n",
        "        train_loss\n",
        "        ))"
      ],
      "execution_count": 16,
      "outputs": [
        {
          "output_type": "stream",
          "text": [
            "/usr/local/lib/python3.6/dist-packages/ipykernel_launcher.py:17: UserWarning: Implicit dimension choice for log_softmax has been deprecated. Change the call to include dim=X as an argument.\n"
          ],
          "name": "stderr"
        },
        {
          "output_type": "stream",
          "text": [
            "Epoch: 1 \tTraining Loss: 1.390834\n",
            "Epoch: 2 \tTraining Loss: 0.139042\n",
            "Epoch: 3 \tTraining Loss: 0.085814\n",
            "Epoch: 4 \tTraining Loss: 0.067019\n",
            "Epoch: 5 \tTraining Loss: 0.056054\n",
            "Epoch: 6 \tTraining Loss: 0.048567\n",
            "Epoch: 7 \tTraining Loss: 0.043194\n",
            "Epoch: 8 \tTraining Loss: 0.038867\n",
            "Epoch: 9 \tTraining Loss: 0.035309\n",
            "Epoch: 10 \tTraining Loss: 0.032349\n",
            "Epoch: 11 \tTraining Loss: 0.029773\n",
            "Epoch: 12 \tTraining Loss: 0.027489\n",
            "Epoch: 13 \tTraining Loss: 0.025434\n",
            "Epoch: 14 \tTraining Loss: 0.023563\n",
            "Epoch: 15 \tTraining Loss: 0.021876\n",
            "Epoch: 16 \tTraining Loss: 0.020249\n",
            "Epoch: 17 \tTraining Loss: 0.018793\n",
            "Epoch: 18 \tTraining Loss: 0.017419\n",
            "Epoch: 19 \tTraining Loss: 0.016218\n",
            "Epoch: 20 \tTraining Loss: 0.015104\n",
            "Epoch: 21 \tTraining Loss: 0.014052\n",
            "Epoch: 22 \tTraining Loss: 0.013038\n",
            "Epoch: 23 \tTraining Loss: 0.012119\n",
            "Epoch: 24 \tTraining Loss: 0.011322\n",
            "Epoch: 25 \tTraining Loss: 0.010493\n",
            "Epoch: 26 \tTraining Loss: 0.009714\n",
            "Epoch: 27 \tTraining Loss: 0.009023\n",
            "Epoch: 28 \tTraining Loss: 0.008349\n",
            "Epoch: 29 \tTraining Loss: 0.007724\n",
            "Epoch: 30 \tTraining Loss: 0.007159\n",
            "Epoch: 31 \tTraining Loss: 0.006601\n",
            "Epoch: 32 \tTraining Loss: 0.006103\n",
            "Epoch: 33 \tTraining Loss: 0.005654\n",
            "Epoch: 34 \tTraining Loss: 0.005172\n",
            "Epoch: 35 \tTraining Loss: 0.004802\n",
            "Epoch: 36 \tTraining Loss: 0.004409\n",
            "Epoch: 37 \tTraining Loss: 0.004062\n",
            "Epoch: 38 \tTraining Loss: 0.003744\n",
            "Epoch: 39 \tTraining Loss: 0.003449\n",
            "Epoch: 40 \tTraining Loss: 0.003183\n",
            "Epoch: 41 \tTraining Loss: 0.002947\n",
            "Epoch: 42 \tTraining Loss: 0.002737\n",
            "Epoch: 43 \tTraining Loss: 0.002537\n",
            "Epoch: 44 \tTraining Loss: 0.002371\n",
            "Epoch: 45 \tTraining Loss: 0.002209\n",
            "Epoch: 46 \tTraining Loss: 0.002055\n",
            "Epoch: 47 \tTraining Loss: 0.001924\n",
            "Epoch: 48 \tTraining Loss: 0.001805\n",
            "Epoch: 49 \tTraining Loss: 0.001688\n",
            "Epoch: 50 \tTraining Loss: 0.001592\n"
          ],
          "name": "stdout"
        }
      ]
    },
    {
      "cell_type": "code",
      "metadata": {
        "colab": {
          "base_uri": "https://localhost:8080/",
          "height": 871
        },
        "id": "od-A3MVhL5Qn",
        "outputId": "a45a0e06-c0d1-4e75-8a80-e9d30d057e96"
      },
      "source": [
        "iters = list(range(50))\n",
        "plt.plot(iters, training_losses)\n",
        "plt.xlabel(\"Number of Iterations\")\n",
        "plt.ylabel(\"Training Loss\")\n",
        "plt.show()\n",
        "plt.plot(iters, test_accuracies)\n",
        "plt.xlabel(\"Number of Iterations\")\n",
        "plt.ylabel(\"Testing Accuracies\")\n",
        "plt.show()\n",
        "plt.plot(iters, train_accuracies)\n",
        "plt.xlabel(\"Number of Iterations\")\n",
        "plt.ylabel(\"Training Accuracies\")\n",
        "plt.show()\n",
        "print(np.mean(test_accuracies))\n",
        "print(np.std(test_accuracies))\n",
        "print(np.mean(train_accuracies))\n",
        "print(np.std(train_accuracies))"
      ],
      "execution_count": 17,
      "outputs": [
        {
          "output_type": "display_data",
          "data": {
            "image/png": "[encoded data removed]",
            "text/plain": [
              "<Figure size 432x288 with 1 Axes>"
            ]
          },
          "metadata": {
            "tags": [],
            "needs_background": "light"
          }
        },
        {
          "output_type": "display_data",
          "data": {
            "image/png": "[encoded data removed]",
            "text/plain": [
              "<Figure size 432x288 with 1 Axes>"
            ]
          },
          "metadata": {
            "tags": [],
            "needs_background": "light"
          }
        },
        {
          "output_type": "display_data",
          "data": {
            "image/png": "[encoded data removed]",
            "text/plain": [
              "<Figure size 432x288 with 1 Axes>"
            ]
          },
          "metadata": {
            "tags": [],
            "needs_background": "light"
          }
        },
        {
          "output_type": "stream",
          "text": [
            "98.4434\n",
            "0.8115407814768142\n",
            "99.28726666666667\n",
            "1.0800633602813416\n"
          ],
          "name": "stdout"
        }
      ]
    },
    {
      "cell_type": "code",
      "metadata": {
        "colab": {
          "base_uri": "https://localhost:8080/"
        },
        "id": "Jqx4OpvfT_mu",
        "outputId": "8d219622-6588-4516-ee30-ecb1c0dd1c57"
      },
      "source": [
        "test_loss = 0.0\n",
        "class_correct = list(0. for i in range(10))\n",
        "class_total = list(0. for i in range(10))\n",
        "model.eval()\n",
        "for data, target in test_loader:\n",
        "    output = model(data)\n",
        "    loss = criterion(output, target.long())\n",
        "    test_loss += loss.item() * data.size(0)\n",
        "    _, pred = torch.max(output, 1)\n",
        "    correct = np.squeeze(pred.eq(target.data.view_as(pred)))\n",
        "    for i in range(1000):\n",
        "        label = int(target.data[i])\n",
        "        class_correct[label] += correct[i].item()\n",
        "        class_total[label] += 1\n",
        "test_loss = test_loss/len(test_loader.dataset)\n",
        "print('Test Loss: {:.6f}\\n'.format(test_loss))\n",
        "\n",
        "for i in range(10):\n",
        "    if class_total[i] > 0:\n",
        "        print('Test Accuracy of %5s: %2d%% (%2d/%2d)' % (\n",
        "            str(i), 100 * class_correct[i] / class_total[i],\n",
        "            np.sum(class_correct[i]), np.sum(class_total[i])))\n",
        "    else:\n",
        "        print('Test Accuracy of %5s: N/A (no training examples)' % (classes[i]))\n",
        "\n",
        "print('\\nTest Accuracy (Overall): %2d%% (%2d/%2d)' % (\n",
        "    100. * np.sum(class_correct) / np.sum(class_total),\n",
        "    np.sum(class_correct), np.sum(class_total)))  "
      ],
      "execution_count": 18,
      "outputs": [
        {
          "output_type": "stream",
          "text": [
            "/usr/local/lib/python3.6/dist-packages/ipykernel_launcher.py:17: UserWarning: Implicit dimension choice for log_softmax has been deprecated. Change the call to include dim=X as an argument.\n"
          ],
          "name": "stderr"
        },
        {
          "output_type": "stream",
          "text": [
            "Test Loss: 0.048358\n",
            "\n",
            "Test Accuracy of     0: 99% (975/980)\n",
            "Test Accuracy of     1: 99% (1128/1135)\n",
            "Test Accuracy of     2: 98% (1019/1032)\n",
            "Test Accuracy of     3: 99% (1001/1010)\n",
            "Test Accuracy of     4: 99% (975/982)\n",
            "Test Accuracy of     5: 99% (884/892)\n",
            "Test Accuracy of     6: 98% (945/958)\n",
            "Test Accuracy of     7: 98% (1013/1028)\n",
            "Test Accuracy of     8: 98% (956/974)\n",
            "Test Accuracy of     9: 97% (988/1009)\n",
            "\n",
            "Test Accuracy (Overall): 98% (9884/10000)\n"
          ],
          "name": "stdout"
        }
      ]
    },
    {
      "cell_type": "code",
      "metadata": {
        "id": "6u1KOeU1UFnm"
      },
      "source": [
        ""
      ],
      "execution_count": 18,
      "outputs": []
    }
  ]
}