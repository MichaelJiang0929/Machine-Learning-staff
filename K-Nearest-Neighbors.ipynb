{
 "cells": [
  {
   "cell_type": "code",
   "execution_count": 74,
   "metadata": {
    "id": "cKUPe5P9koQJ"
   },
   "outputs": [],
   "source": [
    "from scipy import spatial\n",
    "import numpy as np\n",
    "import dataloader\n",
    "import matplotlib.pyplot as plt\n",
    "\n",
    "dataloader = dataloader.DataLoader(Xtrainpath='./train-images-idx3-ubyte.gz',\n",
    "                        Ytrainpath='./train-labels-idx1-ubyte.gz',\n",
    "                        Xtestpath='./t10k-images-idx3-ubyte.gz',\n",
    "                        Ytestpath='./t10k-labels-idx1-ubyte.gz')\n",
    "Xtrain, Ytrain, Xtest, Ytest = dataloader.load_data()\n",
    "    \n",
    "data = np.zeros((60000, 784))\n",
    "for i in range(60000):\n",
    "    data[i] = Xtrain[i].flatten() / 255\n",
    "test = np.zeros((10000, 784))\n",
    "for i in range(10000):\n",
    "    test[i] = Xtest[i].flatten() / 255"
   ]
  },
  {
   "cell_type": "code",
   "execution_count": 75,
   "metadata": {
    "id": "0o6dpg5sRwob"
   },
   "outputs": [],
   "source": [
    "tree = spatial.KDTree(data, leafsize=60000)"
   ]
  },
  {
   "cell_type": "code",
   "execution_count": 80,
   "metadata": {
    "id": "nQwZYxzXRnP5"
   },
   "outputs": [],
   "source": [
    "def k_nearest_neighbor(Ytrain, test, Xtrain, norm, tree):\n",
    "    predictions1 = []\n",
    "    predictions3 = []\n",
    "    predictions5 = []\n",
    "    predictions7 = []\n",
    "    predictions9 = []\n",
    "    count = 0\n",
    "    for test_point in test:\n",
    "        if count % 1000 == 0:\n",
    "            print(\"Calculating\",norm, count)\n",
    "        count += 1\n",
    "        d, index = tree.query(test_point, k=9, eps=0, p=norm)\n",
    "        label1 = []\n",
    "        label1.append(Ytrain[index[0]])\n",
    "        label3 = []\n",
    "        label5 = []\n",
    "        label7 = []\n",
    "        label9 = []\n",
    "        for i in range(3):\n",
    "            label3.append(Ytrain[index[i]])\n",
    "            label5.append(Ytrain[index[i]])\n",
    "            label7.append(Ytrain[index[i]])\n",
    "            label9.append(Ytrain[index[i]])\n",
    "        for i in range(3, 5):\n",
    "            label5.append(Ytrain[index[i]])\n",
    "            label7.append(Ytrain[index[i]])\n",
    "            label9.append(Ytrain[index[i]])\n",
    "        for i in range(5, 7):\n",
    "            label7.append(Ytrain[index[i]])\n",
    "            label9.append(Ytrain[index[i]])\n",
    "        for i in range(7, 9):\n",
    "            label9.append(Ytrain[index[i]])\n",
    "        pred1 = max(label1, key=label1.count)\n",
    "        pred3 = max(label3, key=label3.count)\n",
    "        pred5 = max(label5, key=label5.count)\n",
    "        pred7 = max(label7, key=label7.count)\n",
    "        pred9 = max(label9, key=label9.count)\n",
    "        predictions1.append(pred1)\n",
    "        predictions3.append(pred3)\n",
    "        predictions5.append(pred5)\n",
    "        predictions7.append(pred7)\n",
    "        predictions9.append(pred9)\n",
    "    return predictions1, predictions3, predictions5, predictions7, predictions9\n",
    "\n",
    "def get_accuracy(predictions, Ytest):\n",
    "    correct = 0\n",
    "    for i in range(len(predictions)):\n",
    "        if predictions[i] == Ytest[i]:\n",
    "            correct += 1\n",
    "    return correct / len(predictions)"
   ]
  },
  {
   "cell_type": "code",
   "execution_count": 81,
   "metadata": {
    "colab": {
     "base_uri": "https://localhost:8080/"
    },
    "id": "_pu6GK8LI7ej",
    "outputId": "96639137-5ff7-42a2-ede1-5346805e0dd1"
   },
   "outputs": [
    {
     "name": "stdout",
     "output_type": "stream",
     "text": [
      "Calculating 1 0\n",
      "Calculating 1 1000\n",
      "Calculating 1 2000\n",
      "Calculating 1 3000\n",
      "Calculating 1 4000\n",
      "Calculating 1 5000\n",
      "Calculating 1 6000\n",
      "Calculating 1 7000\n",
      "Calculating 1 8000\n",
      "Calculating 1 9000\n"
     ]
    }
   ],
   "source": [
    "predictions1, predictions3, predictions5, predictions7, predictions9 = k_nearest_neighbor(Ytrain, test, Xtrain, 1, tree)"
   ]
  },
  {
   "cell_type": "code",
   "execution_count": 82,
   "metadata": {
    "colab": {
     "base_uri": "https://localhost:8080/",
     "height": 279
    },
    "id": "p2jDtLx-TjLe",
    "outputId": "408ffa47-1003-4006-a3b4-9c9c65b3c06c"
   },
   "outputs": [
    {
     "data": {
      "image/png": "[encoded data removed]",
      "text/plain": [
       "<Figure size 432x288 with 1 Axes>"
      ]
     },
     "metadata": {
      "needs_background": "light",
      "tags": []
     },
     "output_type": "display_data"
    }
   ],
   "source": [
    "accuracy = []\n",
    "accuracy.append(get_accuracy(predictions1, Ytest))\n",
    "accuracy.append(get_accuracy(predictions3, Ytest))\n",
    "accuracy.append(get_accuracy(predictions5, Ytest))\n",
    "accuracy.append(get_accuracy(predictions7, Ytest))\n",
    "accuracy.append(get_accuracy(predictions9, Ytest))\n",
    "k_value = [1,3,5,7,9]\n",
    "plt.plot(k_value, accuracy)\n",
    "plt.xlabel(\"K values\")\n",
    "plt.ylabel(\"Accurary under 1-norm distance\")\n",
    "plt.show()"
   ]
  },
  {
   "cell_type": "code",
   "execution_count": 85,
   "metadata": {
    "colab": {
     "base_uri": "https://localhost:8080/"
    },
    "id": "t_u-BNyNrfkk",
    "outputId": "3e731f90-15aa-4b09-ff34-c47d58cfe3c0"
   },
   "outputs": [
    {
     "name": "stdout",
     "output_type": "stream",
     "text": [
      "Calculating 2 0\n",
      "Calculating 2 1000\n",
      "Calculating 2 2000\n",
      "Calculating 2 3000\n",
      "Calculating 2 4000\n",
      "Calculating 2 5000\n",
      "Calculating 2 6000\n",
      "Calculating 2 7000\n",
      "Calculating 2 8000\n",
      "Calculating 2 9000\n"
     ]
    }
   ],
   "source": [
    "predictions12, predictions32, predictions52, predictions72, predictions92 = k_nearest_neighbor(Ytrain, test, Xtrain, 2, tree)"
   ]
  },
  {
   "cell_type": "code",
   "execution_count": 86,
   "metadata": {
    "colab": {
     "base_uri": "https://localhost:8080/",
     "height": 296
    },
    "id": "RFm-QHEbL10q",
    "outputId": "ca43a542-8235-4128-b188-638718dfa1f8"
   },
   "outputs": [
    {
     "data": {
      "text/plain": [
       "Text(0, 0.5, 'Accurary under 2-norm distance')"
      ]
     },
     "execution_count": 86,
     "metadata": {
      "tags": []
     },
     "output_type": "execute_result"
    },
    {
     "data": {
      "image/png": "[encoded data removed]",
      "text/plain": [
       "<Figure size 432x288 with 1 Axes>"
      ]
     },
     "metadata": {
      "needs_background": "light",
      "tags": []
     },
     "output_type": "display_data"
    }
   ],
   "source": [
    "accuracy2 = []\n",
    "accuracy2.append(get_accuracy(predictions12, Ytest))\n",
    "accuracy2.append(get_accuracy(predictions32, Ytest))\n",
    "accuracy2.append(get_accuracy(predictions52, Ytest))\n",
    "accuracy2.append(get_accuracy(predictions72, Ytest))\n",
    "accuracy2.append(get_accuracy(predictions92, Ytest))\n",
    "plt.plot(k_value, accuracy2)\n",
    "plt.xlabel(\"K values\")\n",
    "plt.ylabel(\"Accurary under 2-norm distance\")"
   ]
  }
 ],
 "metadata": {
  "colab": {
   "collapsed_sections": [],
   "name": "KNN.ipynb",
   "provenance": []
  },
  "kernelspec": {
   "display_name": "Python 3",
   "language": "python",
   "name": "python3"
  },
  "language_info": {
   "codemirror_mode": {
    "name": "ipython",
    "version": 3
   },
   "file_extension": ".py",
   "mimetype": "text/x-python",
   "name": "python",
   "nbconvert_exporter": "python",
   "pygments_lexer": "ipython3",
   "version": "3.7.6"
  }
 },
 "nbformat": 4,
 "nbformat_minor": 4
}
